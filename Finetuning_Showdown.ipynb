{
 "cells": [
  {
   "cell_type": "markdown",
   "metadata": {},
   "source": [
    "<!-- Banner Image -->\n",
    "<img src=\"https://uohmivykqgnnbiouffke.supabase.co/storage/v1/object/public/landingpage/brevdevnotebooks.png\" width=\"100%\">\n",
    "\n",
    "<!-- Links -->\n",
    "<center>\n",
    "  <a href=\"https://console.brev.dev\" style=\"color: #06b6d4;\">Console</a> \u2022\n",
    "  <a href=\"https://brev.dev\" style=\"color: #06b6d4;\">Docs</a> \u2022\n",
    "  <a href=\"/\" style=\"color: #06b6d4;\">Templates</a> \u2022\n",
    "  <a href=\"https://discord.gg/NVDyv7TUgJ\" style=\"color: #06b6d4;\">Discord</a>\n",
    "</center>\n",
    "\n",
    "# \u26a1 Fine-Tuning Showdown: Unsloth vs HuggingFace\n",
    "\n",
    "## Real Benchmarks. Same Model. Same Dataset. YOUR GPU.\n",
    "\n",
    "<div style=\"background: linear-gradient(135deg, #f093fb 0%, #f5576c 100%); padding: 30px; border-radius: 10px; color: white; margin-bottom: 20px;\">\n",
    "  <h2 style=\"margin-top: 0; color: white;\">\ud83c\udfaf What You'll Discover</h2>\n",
    "  <p style=\"font-size: 18px; line-height: 1.6;\">\n",
    "    <strong>Stop guessing. Start measuring.</strong><br/><br/>\n",
    "    We'll train <strong>the same model</strong> with <strong>the same dataset</strong> using two frameworks:<br/>\n",
    "    \u26a1 <strong>Unsloth</strong> - Claims 2\u00d7 speed, let's verify<br/>\n",
    "    \ud83e\udd17 <strong>HuggingFace</strong> - Vanilla baseline (PEFT + Trainer)<br/>\n",
    "    <br/>\n",
    "    <strong>\ud83d\udd25 GPU starts training in 60 seconds. Side-by-side results in 10 minutes.</strong>\n",
    "  </p>\n",
    "</div>\n",
    "\n",
    "## \ud83d\udccb Prerequisites\n",
    "\n",
    "- **GPU**: NVIDIA GPU with 16GB+ VRAM (A100, H100, L40S, RTX 4090, RTX 3090)\n",
    "- **CUDA**: 11.8+ or 12.1+\n",
    "- **Python**: 3.10+\n",
    "- **Disk Space**: 20GB free (for models + datasets)\n",
    "\n",
    "---\n",
    "\n",
    "## \ud83c\udfac Quick Start: What Happens Next\n",
    "\n",
    "The next few cells will:\n",
    "1. **Install Unsloth** (~30 sec)\n",
    "2. **Load Qwen 1.5B model** (~15 sec)\n",
    "3. **Start training** immediately (2-3 min)\n",
    "4. **Train with vanilla HF** (same config)\n",
    "5. **Compare ALL metrics** side-by-side\n",
    "\n",
    "**Total time: ~10 minutes for complete comparison** \u26a1\n",
    "\n",
    "---\n",
    "\n",
    "#### \ud83d\udcac Questions? Join us on [Discord](https://discord.gg/NVDyv7TUgJ) or reach out on [X/Twitter](https://x.com/brevdev)\n",
    "\n",
    "**\ud83d\udcdd Notebook Tips**: Press `Shift + Enter` to run cells. A `*` means running, a number means complete.\n",
    "\n",
    "---"
   ]
  }
 ],
 "metadata": {
  "kernelspec": {
   "display_name": "Python 3",
   "language": "python",
   "name": "python3"
  },
  "language_info": {
   "codemirror_mode": {
    "name": "ipython",
    "version": 3
   },
   "file_extension": ".py",
   "mimetype": "text/x-python",
   "name": "python",
   "nbconvert_exporter": "python",
   "pygments_lexer": "ipython3",
   "version": "3.10.0"
  },
  "accelerator": "GPU"
 },
 "nbformat": 4,
 "nbformat_minor": 4
}